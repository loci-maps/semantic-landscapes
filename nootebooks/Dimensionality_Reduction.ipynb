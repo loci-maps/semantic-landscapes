{
  "nbformat": 4,
  "nbformat_minor": 0,
  "metadata": {
    "colab": {
      "provenance": []
    },
    "kernelspec": {
      "name": "python3",
      "display_name": "Python 3"
    },
    "language_info": {
      "name": "python"
    }
  },
  "cells": [
    {
      "cell_type": "code",
      "execution_count": 151,
      "metadata": {
        "id": "JnsGZ78UU3de"
      },
      "outputs": [],
      "source": [
        "from sklearn.decomposition import PCA\n",
        "import matplotlib.pyplot as plt\n",
        "import tensorflow as tf\n",
        "import numpy as np\n",
        "import json"
      ]
    },
    {
      "cell_type": "code",
      "source": [
        "with open('embeddings.json','r') as infile:\n",
        "  data = json.load(infile)"
      ],
      "metadata": {
        "id": "3MwshpCHVxfp"
      },
      "execution_count": 152,
      "outputs": []
    },
    {
      "cell_type": "code",
      "source": [
        "embedding_labels = list(data.keys())\n",
        "print(embedding_labels)"
      ],
      "metadata": {
        "colab": {
          "base_uri": "https://localhost:8080/"
        },
        "id": "ogdmGqliV6s5",
        "outputId": "a8d44b28-e501-4897-d2aa-b1eed9d53a11"
      },
      "execution_count": 153,
      "outputs": [
        {
          "output_type": "stream",
          "name": "stdout",
          "text": [
            "['Create a programming language.md', 'Programming languages.md', 'Inspectional reading.md', 'Reading philosophy.md', 'Reading imaginary.md', 'Reading technics should differ depending on book type.md', 'Elementary reading.md', 'Augmented reality.md', 'AR devices.md', 'Mixed reality.md', 'No-code tools for AR.md', 'Video.md', 'Premiere Pro.md', 'Make great videos.md', 'Hyperinflation.md', 'Printing more money could create inflation.md']\n"
          ]
        }
      ]
    },
    {
      "cell_type": "code",
      "source": [
        "embedding_size = len(data[embedding_labels[0]])\n",
        "print(embedding_size)"
      ],
      "metadata": {
        "colab": {
          "base_uri": "https://localhost:8080/"
        },
        "id": "F_jK3-RTWS44",
        "outputId": "e8895665-472d-4d12-af0b-ae4afd495e5e"
      },
      "execution_count": 154,
      "outputs": [
        {
          "output_type": "stream",
          "name": "stdout",
          "text": [
            "1536\n"
          ]
        }
      ]
    },
    {
      "cell_type": "code",
      "source": [
        "embeddings = np.array([data[label] for label in embedding_labels])"
      ],
      "metadata": {
        "id": "aT03OaJphSdS"
      },
      "execution_count": 155,
      "outputs": []
    },
    {
      "cell_type": "markdown",
      "source": [
        "### PCA Based Dimensionality Reduction"
      ],
      "metadata": {
        "id": "Hvs7NTKPg4B3"
      }
    },
    {
      "cell_type": "code",
      "source": [
        "pca = PCA(n_components=2)"
      ],
      "metadata": {
        "id": "LJVH7W_Cg2Eq"
      },
      "execution_count": 156,
      "outputs": []
    },
    {
      "cell_type": "code",
      "source": [
        "pca.fit(embeddings)"
      ],
      "metadata": {
        "colab": {
          "base_uri": "https://localhost:8080/"
        },
        "id": "hz28UPiKg26n",
        "outputId": "f17e397b-ff45-4ca2-e481-79544bb11203"
      },
      "execution_count": 157,
      "outputs": [
        {
          "output_type": "execute_result",
          "data": {
            "text/plain": [
              "PCA(n_components=2)"
            ]
          },
          "metadata": {},
          "execution_count": 157
        }
      ]
    },
    {
      "cell_type": "code",
      "source": [
        "pca_encodings = pca.transform(embeddings)\n",
        "print(pca_encodings)"
      ],
      "metadata": {
        "colab": {
          "base_uri": "https://localhost:8080/"
        },
        "id": "SOYUOp4ehtQF",
        "outputId": "ffb292b6-4977-459e-c7c7-30318c4a3f24"
      },
      "execution_count": 158,
      "outputs": [
        {
          "output_type": "stream",
          "name": "stdout",
          "text": [
            "[[ 0.00353469  0.14331202]\n",
            " [-0.01838477  0.15421491]\n",
            " [-0.30594297 -0.11086939]\n",
            " [-0.27770448 -0.05483695]\n",
            " [-0.28002792 -0.1100232 ]\n",
            " [-0.30041305 -0.08310953]\n",
            " [-0.24006508 -0.10949148]\n",
            " [ 0.28609518 -0.26278609]\n",
            " [ 0.31822871 -0.20926197]\n",
            " [ 0.29171655 -0.25307531]\n",
            " [ 0.3259859  -0.04690087]\n",
            " [ 0.10556781  0.34823503]\n",
            " [ 0.12128157  0.33228369]\n",
            " [ 0.07496233  0.3122346 ]\n",
            " [-0.03595227 -0.0576436 ]\n",
            " [-0.0688822   0.00771813]]\n"
          ]
        }
      ]
    },
    {
      "cell_type": "code",
      "source": [
        "fig, ax = plt.subplots()\n",
        "\n",
        "x = pca_encodings[:,0]\n",
        "y = pca_encodings[:,1]\n",
        "\n",
        "ax.scatter(x, y)\n",
        "plt.rc('font', size=7)\n",
        "\n",
        "for i, label in enumerate(embedding_labels):\n",
        "    ax.annotate(label, (x[i], y[i]))"
      ],
      "metadata": {
        "colab": {
          "base_uri": "https://localhost:8080/",
          "height": 261
        },
        "id": "EI6HeaN6iEJ3",
        "outputId": "c5f38665-faa6-4363-eaab-208aa560d856"
      },
      "execution_count": 159,
      "outputs": [
        {
          "output_type": "display_data",
          "data": {
            "text/plain": [
              "<Figure size 432x288 with 1 Axes>"
            ],
            "image/png": "[encoded data removed]"
          },
          "metadata": {
            "needs_background": "light"
          }
        }
      ]
    },
    {
      "cell_type": "markdown",
      "source": [
        "### Autoencoder Based Dimensionality Reduction"
      ],
      "metadata": {
        "id": "xg0TKtN_gpRS"
      }
    },
    {
      "cell_type": "code",
      "source": [
        "model = tf.keras.Sequential()\n",
        "model.add(tf.keras.Input(shape=(embedding_size,)))\n",
        "model.add(tf.keras.layers.BatchNormalization())\n",
        "model.add(tf.keras.layers.Dense(embedding_size//10, activation='sigmoid'))\n",
        "model.add(tf.keras.layers.Dense(embedding_size//100, activation='sigmoid'))\n",
        "model.add(tf.keras.layers.Dense(2, activation='sigmoid', name='latent_space'))\n",
        "model.add(tf.keras.layers.Dense(embedding_size//100, activation='sigmoid'))\n",
        "model.add(tf.keras.layers.Dense(embedding_size//10, activation='sigmoid'))\n",
        "model.add(tf.keras.layers.BatchNormalization())\n",
        "model.add(tf.keras.layers.Dense(embedding_size))"
      ],
      "metadata": {
        "id": "QDRaepwIV7K7"
      },
      "execution_count": 202,
      "outputs": []
    },
    {
      "cell_type": "code",
      "source": [
        "opt = tf.keras.optimizers.SGD(learning_rate=10)\n",
        "model.compile(optimizer=opt, loss='mse')"
      ],
      "metadata": {
        "id": "MLGw31sSXIYP"
      },
      "execution_count": 203,
      "outputs": []
    },
    {
      "cell_type": "code",
      "source": [
        "X = embeddings.copy()"
      ],
      "metadata": {
        "id": "LqlFC7JnXM9I"
      },
      "execution_count": 204,
      "outputs": []
    },
    {
      "cell_type": "code",
      "source": [
        "Y = embeddings.copy()"
      ],
      "metadata": {
        "id": "vxyiHL3xXayQ"
      },
      "execution_count": 205,
      "outputs": []
    },
    {
      "cell_type": "code",
      "source": [
        "model.fit(X, Y, epochs=1000, verbose=0)"
      ],
      "metadata": {
        "colab": {
          "base_uri": "https://localhost:8080/"
        },
        "id": "vE9M-6x1XJhi",
        "outputId": "9c9a9293-096d-416c-e4af-e4c0499dcaf8"
      },
      "execution_count": 211,
      "outputs": [
        {
          "output_type": "execute_result",
          "data": {
            "text/plain": [
              "<keras.callbacks.History at 0x7f61791cf8e0>"
            ]
          },
          "metadata": {},
          "execution_count": 211
        }
      ]
    },
    {
      "cell_type": "code",
      "source": [
        "encoder = tf.keras.Model(inputs=model.input, outputs=model.get_layer('latent_space').output)"
      ],
      "metadata": {
        "id": "ZKTve-VoXhPj"
      },
      "execution_count": 212,
      "outputs": []
    },
    {
      "cell_type": "code",
      "source": [
        "nn_encodings = encoder.predict(X)"
      ],
      "metadata": {
        "colab": {
          "base_uri": "https://localhost:8080/"
        },
        "id": "fYrG6Zd1davn",
        "outputId": "83cca53d-604f-4992-f775-5de65cd11919"
      },
      "execution_count": 213,
      "outputs": [
        {
          "output_type": "stream",
          "name": "stdout",
          "text": [
            "1/1 [==============================] - 0s 85ms/step\n"
          ]
        }
      ]
    },
    {
      "cell_type": "code",
      "source": [
        "print(nn_encodings)"
      ],
      "metadata": {
        "colab": {
          "base_uri": "https://localhost:8080/"
        },
        "id": "bjOSKhTSde0I",
        "outputId": "33141a6a-77b6-460f-892e-2b97304adee6"
      },
      "execution_count": 214,
      "outputs": [
        {
          "output_type": "stream",
          "name": "stdout",
          "text": [
            "[[0.30626544 0.5137536 ]\n",
            " [0.30811733 0.5147001 ]\n",
            " [0.3048698  0.518599  ]\n",
            " [0.30495608 0.5183879 ]\n",
            " [0.303606   0.51645786]\n",
            " [0.30631465 0.5147078 ]\n",
            " [0.30781922 0.5191153 ]\n",
            " [0.30216745 0.51990056]\n",
            " [0.30744806 0.52090377]\n",
            " [0.30905613 0.5230448 ]\n",
            " [0.3067493  0.5219403 ]\n",
            " [0.30211344 0.5216011 ]\n",
            " [0.30603766 0.5146374 ]\n",
            " [0.30928308 0.52194065]\n",
            " [0.30541563 0.52338207]\n",
            " [0.3089906  0.5231102 ]]\n"
          ]
        }
      ]
    },
    {
      "cell_type": "code",
      "source": [
        "fig, ax = plt.subplots()\n",
        "\n",
        "x = nn_encodings[:,0]\n",
        "y = nn_encodings[:,1]\n",
        "\n",
        "ax.scatter(x, y)\n",
        "plt.rc('font', size=7)\n",
        "\n",
        "for i, label in enumerate(embedding_labels):\n",
        "    ax.annotate(label, (x[i], y[i]))"
      ],
      "metadata": {
        "colab": {
          "base_uri": "https://localhost:8080/",
          "height": 261
        },
        "id": "1nkgxjcOdfgV",
        "outputId": "f855a037-0c82-48a7-da8d-17b6fca49e21"
      },
      "execution_count": 215,
      "outputs": [
        {
          "output_type": "display_data",
          "data": {
            "text/plain": [
              "<Figure size 432x288 with 1 Axes>"
            ],
            "image/png": "[encoded data removed]"
          },
          "metadata": {
            "needs_background": "light"
          }
        }
      ]
    },
    {
      "cell_type": "code",
      "source": [],
      "metadata": {
        "id": "dvpB0-JcfPQ6"
      },
      "execution_count": null,
      "outputs": []
    }
  ]
}