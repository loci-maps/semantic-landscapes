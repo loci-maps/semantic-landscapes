{
  "cells": [
    {
      "cell_type": "code",
      "execution_count": 1,
      "metadata": {
        "collapsed": false
      },
      "outputs": [],
      "source": [
        "import networkx as nx\n",
        "import numpy as np\n",
        "import pyvista as pv"
      ]
    },
    {
      "cell_type": "code",
      "execution_count": 2,
      "metadata": {},
      "outputs": [],
      "source": [
        "def generate_random_3d_positions(num_nodes):\n",
        "    positions = {}\n",
        "    for i in range(num_nodes):\n",
        "        x = np.random.rand()\n",
        "        y = np.random.rand()\n",
        "        z = np.random.rand()\n",
        "        positions[i] = (x, y, z)\n",
        "    return positions\n",
        "\n",
        "def plot_3d_graph(graph, positions):\n",
        "    plotter = pv.Plotter()\n",
        "\n",
        "    for edge in graph.edges():\n",
        "        x1, y1, z1 = positions[edge[0]]\n",
        "        x2, y2, z2 = positions[edge[1]]\n",
        "        plotter.add_lines(np.array([[x1, y1, z1], [x2, y2, z2]]), color='blue', width=2)\n",
        "\n",
        "    for node in graph.nodes():\n",
        "        x, y, z = positions[node]\n",
        "        plotter.add_mesh(pv.Sphere(radius=0.02, center=(x, y, z)), color='red')\n",
        "\n",
        "    plotter.show_grid()\n",
        "    plotter.show()\n"
      ]
    },
    {
      "cell_type": "code",
      "execution_count": 7,
      "metadata": {},
      "outputs": [
        {
          "data": {
            "application/vnd.jupyter.widget-view+json": {
              "model_id": "9b04275b21d14f87ae1283b70c7a3a7e",
              "version_major": 2,
              "version_minor": 0
            },
            "text/plain": [
              "Widget(value=\"<iframe src='http://localhost:50794/index.html?ui=P_0x176960d1d80_3&reconnect=auto' style='width…"
            ]
          },
          "metadata": {},
          "output_type": "display_data"
        }
      ],
      "source": [
        "num_nodes = 20\n",
        "probability = 0.1\n",
        "\n",
        "G = nx.gnp_random_graph(num_nodes, probability)\n",
        "pos = generate_random_3d_positions(num_nodes)\n",
        "plot_3d_graph(G, pos)\n"
      ]
    }
  ],
  "metadata": {
    "kernelspec": {
      "display_name": "Python 3",
      "language": "python",
      "name": "python3"
    },
    "language_info": {
      "codemirror_mode": {
        "name": "ipython",
        "version": 3
      },
      "file_extension": ".py",
      "mimetype": "text/x-python",
      "name": "python",
      "nbconvert_exporter": "python",
      "pygments_lexer": "ipython3",
      "version": "3.10.11"
    }
  },
  "nbformat": 4,
  "nbformat_minor": 0
}
