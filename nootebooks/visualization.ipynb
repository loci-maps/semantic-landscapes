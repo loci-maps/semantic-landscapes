{
 "cells": [
  {
   "cell_type": "code",
   "execution_count": 9,
   "metadata": {},
   "outputs": [],
   "source": [
    "from sklearn.decomposition import PCA\n",
    "import matplotlib.pyplot as plt\n",
    "import pandas as pd\n",
    "import numpy as np\n",
    "import json\n",
    "\n",
    "from sklearn.cluster import *\n",
    "from scipy.cluster.hierarchy import dendrogram, linkage\n",
    "from sklearn.cluster import AgglomerativeClustering"
   ]
  },
  {
   "cell_type": "code",
   "execution_count": 10,
   "metadata": {},
   "outputs": [],
   "source": [
    "def cluster_embeddings(embeddings):\n",
    "    \"\"\"\n",
    "    Clusters embeddings using agglomerative clustering.\n",
    "\n",
    "    Args:\n",
    "        embeddings (dict): A dictionary of embeddings, where the keys are file names and the values are the embeddings.\n",
    "\n",
    "    Returns:\n",
    "        The resulting clustering model, linkage matrix, and a dictionary that maps each embedding to the name of the file it represents.\n",
    "    \"\"\"\n",
    "    vectors_to_file = {}\n",
    "    vectors = []\n",
    "\n",
    "    for f in embeddings:\n",
    "        vectors_to_file[tuple(embeddings[f])] = f\n",
    "        vectors.append(embeddings[f])\n",
    "\n",
    "    clustering = AgglomerativeClustering().fit(vectors)\n",
    "    linked = linkage(vectors, 'single')\n",
    "\n",
    "    return clustering, linked, vectors_to_file\n",
    "\n",
    "\n",
    "\n",
    "def plot_dendrogram(linked, vector_to_file):\n",
    "    \"\"\"\n",
    "    Plots a dendrogram of the clustering results.\n",
    "\n",
    "    Args:\n",
    "        linked (numpy.ndarray): The linkage matrix.\n",
    "        vector_to_file (dict): A dictionary that maps each embedding to the name of the file it represents.\n",
    "    \"\"\"\n",
    "    vectors_names = [vector_to_file[tuple(x)] for x in vectors]\n",
    "    plt.figure(figsize=(10, 7))\n",
    "    dendrogram(linked,\n",
    "               orientation='top',\n",
    "               labels=vectors_names,\n",
    "               distance_sort='descending',\n",
    "               show_leaf_counts=True)\n",
    "    plt.show()\n"
   ]
  },
  {
   "cell_type": "code",
   "execution_count": null,
   "metadata": {},
   "outputs": [],
   "source": [
    "# Function to load in the embeddings and turn them into a vector array\n",
    "def load_embeddings(path):\n",
    "    with open(path, 'r') as f:\n",
    "        embeddings = json.load(f)\n",
    "    return embeddings\n"
   ]
  },
  {
   "cell_type": "code",
   "execution_count": 20,
   "metadata": {},
   "outputs": [],
   "source": [
    "import numpy as np\n",
    "import scipy.cluster.hierarchy as hierarchy\n",
    "\n",
    "# Generate some random data\n",
    "X = np.random.rand(10, 2)\n",
    "\n",
    "# Compute the hierarchical clustering\n",
    "Z = hierarchy.linkage(X, method='ward')\n",
    "\n",
    "# Extract the centroids of each level of the hierarchy\n",
    "centroids = []\n",
    "for k in range(1, len(X)):\n",
    "    labels = hierarchy.fcluster(Z, k, criterion='maxclust')\n",
    "    unique_labels = np.unique(labels)\n",
    "    level_centroids = []\n",
    "    for label in unique_labels:\n",
    "        level_centroids.append(np.mean(X[labels == label], axis=0))\n",
    "    centroids.append(level_centroids)\n"
   ]
  },
  {
   "cell_type": "code",
   "execution_count": 22,
   "metadata": {},
   "outputs": [
    {
     "data": {
      "text/plain": [
       "array([[0.80655508, 0.45545351],\n",
       "       [0.70211636, 0.2110738 ],\n",
       "       [0.34586884, 0.6060408 ],\n",
       "       [0.43556986, 0.43936679],\n",
       "       [0.83630713, 0.28320299],\n",
       "       [0.19527305, 0.65594397],\n",
       "       [0.14625262, 0.21947993],\n",
       "       [0.93919713, 0.55684005],\n",
       "       [0.8296766 , 0.23581856],\n",
       "       [0.74171588, 0.71356386]])"
      ]
     },
     "execution_count": 22,
     "metadata": {},
     "output_type": "execute_result"
    }
   ],
   "source": [
    "X"
   ]
  },
  {
   "cell_type": "code",
   "execution_count": 11,
   "metadata": {},
   "outputs": [
    {
     "ename": "NameError",
     "evalue": "name 'vectors' is not defined",
     "output_type": "error",
     "traceback": [
      "\u001b[0;31m---------------------------------------------------------------------------\u001b[0m",
      "\u001b[0;31mNameError\u001b[0m                                 Traceback (most recent call last)",
      "Cell \u001b[0;32mIn[11], line 5\u001b[0m\n\u001b[1;32m      3\u001b[0m     embeddings \u001b[39m=\u001b[39m json\u001b[39m.\u001b[39mload(f)\n\u001b[1;32m      4\u001b[0m clustering, linked, vectors_to_file \u001b[39m=\u001b[39m cluster_embeddings(embeddings)\n\u001b[0;32m----> 5\u001b[0m plot_dendrogram(linked, vectors_to_file)\n",
      "Cell \u001b[0;32mIn[10], line 33\u001b[0m, in \u001b[0;36mplot_dendrogram\u001b[0;34m(linked, vector_to_file)\u001b[0m\n\u001b[1;32m     25\u001b[0m \u001b[39mdef\u001b[39;00m \u001b[39mplot_dendrogram\u001b[39m(linked, vector_to_file):\n\u001b[1;32m     26\u001b[0m \u001b[39m    \u001b[39m\u001b[39m\"\"\"\u001b[39;00m\n\u001b[1;32m     27\u001b[0m \u001b[39m    Plots a dendrogram of the clustering results.\u001b[39;00m\n\u001b[1;32m     28\u001b[0m \n\u001b[0;32m   (...)\u001b[0m\n\u001b[1;32m     31\u001b[0m \u001b[39m        vector_to_file (dict): A dictionary that maps each embedding to the name of the file it represents.\u001b[39;00m\n\u001b[1;32m     32\u001b[0m \u001b[39m    \"\"\"\u001b[39;00m\n\u001b[0;32m---> 33\u001b[0m     vectors_names \u001b[39m=\u001b[39m [vector_to_file[\u001b[39mtuple\u001b[39m(x)] \u001b[39mfor\u001b[39;00m x \u001b[39min\u001b[39;00m vectors]\n\u001b[1;32m     34\u001b[0m     plt\u001b[39m.\u001b[39mfigure(figsize\u001b[39m=\u001b[39m(\u001b[39m10\u001b[39m, \u001b[39m7\u001b[39m))\n\u001b[1;32m     35\u001b[0m     dendrogram(linked,\n\u001b[1;32m     36\u001b[0m                orientation\u001b[39m=\u001b[39m\u001b[39m'\u001b[39m\u001b[39mtop\u001b[39m\u001b[39m'\u001b[39m,\n\u001b[1;32m     37\u001b[0m                labels\u001b[39m=\u001b[39mvectors_names,\n\u001b[1;32m     38\u001b[0m                distance_sort\u001b[39m=\u001b[39m\u001b[39m'\u001b[39m\u001b[39mdescending\u001b[39m\u001b[39m'\u001b[39m,\n\u001b[1;32m     39\u001b[0m                show_leaf_counts\u001b[39m=\u001b[39m\u001b[39mTrue\u001b[39;00m)\n",
      "\u001b[0;31mNameError\u001b[0m: name 'vectors' is not defined"
     ]
    }
   ],
   "source": [
    "file_path = \"embeddings.json\"\n",
    "with open(file_path, \"r\") as f:\n",
    "    embeddings = json.load(f)\n",
    "    \n",
    "clustering, linked, vectors_to_file = cluster_embeddings(embeddings)\n",
    "plot_dendrogram(linked, vectors_to_file)\n"
   ]
  },
  {
   "cell_type": "code",
   "execution_count": 13,
   "metadata": {},
   "outputs": [],
   "source": [
    "def reduce_dimensions(vec_embeddings):\n",
    "    pca = PCA(n_components=2)\n",
    "    pca.fit(vec_embeddings)\n",
    "    pca_encodings = pca.transform(vec_embeddings)\n",
    "    return pca_encodings\n",
    "\n",
    "def plot_space(labels, vectors):\n",
    "    fig, ax = plt.subplots()\n",
    "    x = vectors[:,0]\n",
    "    y = vectors[:,1]\n",
    "    ax.scatter(x, y)\n",
    "    plt.rc('font', size=7)\n",
    "    for i, label in enumerate(labels):\n",
    "        ax.annotate(label, (x[i], y[i]))\n",
    "    plt.show()\n",
    "\n",
    "def runReduction(embeddings_f = \"embeddings.json\", out_f=\"reduced_embeddings_2d.csv\"):\n",
    "    with open(embeddings_f,'r') as infile:\n",
    "        data = json.load(infile)\n",
    "    embedding_labels = list(data.keys())\n",
    "    # embedding_size = len(data[embedding_labels[0]])\n",
    "    embeddings = np.array([data[label] for label in embedding_labels])\n",
    "    latent_space = reduce_dimensions(embeddings)\n",
    "    # plot_space(embedding_labels, latent_space)\n",
    "    # Stores the reduction as a dataframe of filenames and their corresponding coordinates\n",
    "    df = pd.DataFrame(latent_space, columns=['x','y'])\n",
    "    df['filename'] = embedding_labels\n",
    "    df.to_csv('reduced_embeddings_2d.csv', index=False)\n",
    "\n",
    "runReduction()"
   ]
  },
  {
   "cell_type": "code",
   "execution_count": null,
   "metadata": {},
   "outputs": [],
   "source": []
  }
 ],
 "metadata": {
  "kernelspec": {
   "display_name": "cv",
   "language": "python",
   "name": "python3"
  },
  "language_info": {
   "codemirror_mode": {
    "name": "ipython",
    "version": 3
   },
   "file_extension": ".py",
   "mimetype": "text/x-python",
   "name": "python",
   "nbconvert_exporter": "python",
   "pygments_lexer": "ipython3",
   "version": "3.10.8"
  },
  "orig_nbformat": 4
 },
 "nbformat": 4,
 "nbformat_minor": 2
}
